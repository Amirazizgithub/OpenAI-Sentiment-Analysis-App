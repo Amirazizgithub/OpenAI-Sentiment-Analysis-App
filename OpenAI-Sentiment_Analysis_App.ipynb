{
 "cells": [
  {
   "cell_type": "markdown",
   "id": "b13d4058",
   "metadata": {},
   "source": [
    "# Write your prompt for Sentiment Analysis"
   ]
  },
  {
   "cell_type": "code",
   "execution_count": 3,
   "id": "fcee462c",
   "metadata": {},
   "outputs": [
    {
     "name": "stdout",
     "output_type": "stream",
     "text": [
      "Write your prompt: \n",
      "my dream to become best data scientist one day\n",
      "\n",
      "The sentiment of the text is generally positive. The language used expresses ambition and determination, indicating a positive outlook towards achieving the dream of becoming the best data scientist. The phrase \"one day\" suggests a long-term goal, which adds to the positive sentiment as it implies a willingness to work towards the dream over time.\n"
     ]
    }
   ],
   "source": [
    "import openai\n",
    "\n",
    "# Replace 'YOUR_API_KEY' with your actual OpenAI API key\n",
    "api_key = \"sk-t...'''\"\n",
    "\n",
    "# Set the API key\n",
    "openai.api_key = api_key\n",
    "\n",
    "prompt = input(\"Write your prompt: \\n\")\n",
    "print()\n",
    "\n",
    "def chatgpt_gen():\n",
    "    response = openai.ChatCompletion.create(\n",
    "        model=\"gpt-3.5-turbo\",\n",
    "        temperature = 0,\n",
    "        messages=[{\n",
    "                \"role\": \"system\",\n",
    "                \"content\": \"As an AI with expertise in language and emotion analysis, your task is to analyze the sentiment of the following text. Please consider the overall tone of the discussion, the emotion conveyed by the language used, and the context in which words and phrases are used. Indicate whether the sentiment is generally positive, negative, or neutral, and provide brief explanations for your analysis where possible.\"\n",
    "            },\n",
    "            {\"role\":\"user\", \"content\": prompt}]\n",
    "    )\n",
    "    print(response.choices[0]['message']['content'])\n",
    "\n",
    "if __name__== '__main__':\n",
    "    chatgpt_gen()"
   ]
  },
  {
   "cell_type": "code",
   "execution_count": null,
   "id": "468d6a86",
   "metadata": {},
   "outputs": [],
   "source": []
  }
 ],
 "metadata": {
  "kernelspec": {
   "display_name": "Python 3 (ipykernel)",
   "language": "python",
   "name": "python3"
  },
  "language_info": {
   "codemirror_mode": {
    "name": "ipython",
    "version": 3
   },
   "file_extension": ".py",
   "mimetype": "text/x-python",
   "name": "python",
   "nbconvert_exporter": "python",
   "pygments_lexer": "ipython3",
   "version": "3.9.13"
  }
 },
 "nbformat": 4,
 "nbformat_minor": 5
}
